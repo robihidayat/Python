{
 "cells": [
  {
   "cell_type": "code",
   "execution_count": 31,
   "metadata": {
    "collapsed": false
   },
   "outputs": [
    {
     "ename": "SyntaxError",
     "evalue": "non-keyword arg after keyword arg (<ipython-input-31-ef38f1a335e5>, line 14)",
     "output_type": "error",
     "traceback": [
      "\u001b[1;36m  File \u001b[1;32m\"<ipython-input-31-ef38f1a335e5>\"\u001b[1;36m, line \u001b[1;32m14\u001b[0m\n\u001b[1;33m    df = pd.DataFrame(dataUser, columns = ['data'],dataGeo,columns = ['data'])\u001b[0m\n\u001b[1;31mSyntaxError\u001b[0m\u001b[1;31m:\u001b[0m non-keyword arg after keyword arg\n"
     ]
    }
   ],
   "source": [
    "import pandas as pd\n",
    "from pandas import DataFrame\n",
    "\n",
    "path = \"data.csv\"\n",
    "dataUser = []\n",
    "dataGeo= []\n",
    "data = pd.read_csv(path, error_bad_lines=False)  \n",
    "data\n",
    "for index, dataAddres in data.iterrows():\n",
    "    a= dataAddres['address_sap']\n",
    "    b= dataAddres['reverse_geotag_mediatrac']\n",
    "    dataUser.append(a)\n",
    "    dataGeo.append(b)\n",
    "    df = pd.DataFrame(dataUser, columns = ['data'],dataGeo,columns = ['data'])\n",
    "df\n",
    "      #  df = pd.DataFrame(a,columns=['data'])\n",
    "    #if nilaiFuzz < 50:\n",
    "    # print [\"address_sap :\",a,\"reverse_geotag_mediatrac:\",b,\"Nilainya :\", nilaiFuzz]\n",
    "#     df = pd.DataFrame(data = [nilaiFuzz] ,index=[a], columns=[b])\n",
    "#df = DataFrame(links, columns=['detik url'])"
   ]
  }
 ],
 "metadata": {
  "kernelspec": {
   "display_name": "Python 2",
   "language": "python",
   "name": "python2"
  },
  "language_info": {
   "codemirror_mode": {
    "name": "ipython",
    "version": 2
   },
   "file_extension": ".py",
   "mimetype": "text/x-python",
   "name": "python",
   "nbconvert_exporter": "python",
   "pygments_lexer": "ipython2",
   "version": "2.7.6"
  }
 },
 "nbformat": 4,
 "nbformat_minor": 0
}
